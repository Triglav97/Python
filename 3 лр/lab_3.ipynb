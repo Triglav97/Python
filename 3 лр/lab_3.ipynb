{
 "metadata": {
  "language_info": {
   "codemirror_mode": {
    "name": "ipython",
    "version": 3
   },
   "file_extension": ".py",
   "mimetype": "text/x-python",
   "name": "python",
   "nbconvert_exporter": "python",
   "pygments_lexer": "ipython3",
   "version": "3.9.1-final"
  },
  "orig_nbformat": 2,
  "kernelspec": {
   "name": "python3",
   "display_name": "Python 3.9.1 64-bit",
   "metadata": {
    "interpreter": {
     "hash": "f2aa1b94248c9eedf259d590174e0e738a18e957b20d884e38a5bf5a89c663fd"
    }
   }
  }
 },
 "nbformat": 4,
 "nbformat_minor": 2,
 "cells": [
  {
   "source": [
    "import numpy as np\n",
    "\n",
    "print(\"Задание 1\\n\")\n",
    "\n",
    "A = np.random.randint(0, 256, (4, 4))\n",
    "\n",
    "print (A , \"\\n\")\n",
    "\n",
    "B = np.empty((2,2))\n",
    "B.fill(np.NaN)\n",
    "B[0,0] = np.max(A[0:2, 0:2])\n",
    "B[0,1] = np.max(A[0:2, 2:4])\n",
    "B[1,0] = np.max(A[2:4, 0:2])\n",
    "B[1,1] = np.max(A[2:4, 2:4])\n",
    "\n",
    "print (B , \"\\n\")\n",
    "\n",
    "C = np.empty((2,2))\n",
    "C.fill(np.NaN)\n",
    "C[0,0] = np.min(A[0:2, 0:2])\n",
    "C[0,1] = np.min(A[0:2, 2:4])\n",
    "C[1,0] = np.min(A[2:4, 0:2])\n",
    "C[1,1] = np.min(A[2:4, 2:4])\n",
    "\n",
    "print (C , \"\\n\")\n",
    "\n",
    "D = np.empty((2,2))\n",
    "D.fill(np.NaN)\n",
    "D[0,0] = np.mean(A[0:2, 0:2])\n",
    "D[0,1] = np.mean(A[0:2, 2:4])\n",
    "D[1,0] = np.mean(A[2:4, 0:2])\n",
    "D[1,1] = np.mean(A[2:4, 2:4])\n",
    "\n",
    "print (D , \"\\n\")\n",
    "\n",
    "\n"
   ],
   "cell_type": "code",
   "metadata": {},
   "execution_count": null,
   "outputs": []
  },
  {
   "cell_type": "code",
   "execution_count": null,
   "metadata": {},
   "outputs": [],
   "source": [
    "import numpy as np\n",
    "\n",
    "print(\"Задание 2\\n\")\n",
    "\n",
    "A = np.random.randint(-100, 100, (8, 8))\n",
    "\n",
    "print (A , \"\\n\")\n",
    "\n",
    "print (\"сумма элементов = \", np.sum(A), \"\\n\")\n",
    "\n",
    "print (\"максимальные значения в столбцах\", np.amax(A, axis = 0))\n",
    "print (\"минимальные значения в столбцах\", np.amin(A, axis = 0))\n",
    "print (\"максимальные значения в строках\", np.amax(A, axis = 1))\n",
    "print (\"минимальные значения в строках\", np.amin(A, axis = 1), \"\\n\")\n",
    "\n",
    "print (\"медианa: \\n\", np.median(A))\n",
    "print (\"процентиль: \\n\", np.percentile(A, 50))\n",
    "print (\"В лекции ошибка, np.percentile - это процентиль, для вычисления квантиля используется функция np.quantile\")\n",
    "print (\"квантиль: \\n\", np.quantile(A, q=0.5))\n",
    "\n",
    "\n"
   ]
  },
  {
   "cell_type": "code",
   "execution_count": null,
   "metadata": {},
   "outputs": [],
   "source": [
    "import numpy as np\n",
    "\n",
    "print(\"Задание 3\\n\")\n",
    "\n",
    "A = np.random.randint(0, 10, (5, 5))\n",
    "print (A)\n",
    "\n",
    "B = np.mean(A, axis = 1)\n",
    "C = np.mean(A, axis = 0)\n",
    "\n",
    "print (\"средние значеня по строкам: \", B)\n",
    "print (\"средние значеня по столцам: \", C)\n",
    "print (\"вычитание из каждого эл по строкам соот ср знач: \\n\", (A.T - B).T)\n",
    "print (\"вычитание из каждого эл по столбцам соот ср знач: \\n\", A - C)\n",
    "\n"
   ]
  },
  {
   "cell_type": "code",
   "execution_count": null,
   "metadata": {},
   "outputs": [],
   "source": [
    "import numpy as np\r\n",
    "\r\n",
    "print(\"Задание 4\\n\")\r\n",
    "\r\n",
    "X = np.random.randint(-100, 100, (8, 8))\r\n",
    "X = np.float64(X)\r\n",
    "print (X)\r\n",
    "\r\n",
    "X = np.where(X>0, np.pi, X)\r\n",
    "X = np.where((X<-10), np.exp(1), X)\r\n",
    "X = np.where(X<0, 0, X)\r\n",
    "print (X)\r\n"
   ]
  },
  {
   "cell_type": "code",
   "execution_count": null,
   "metadata": {},
   "outputs": [],
   "source": [
    "import numpy as np\n",
    "\n",
    "print(\"Задание 5\\n\")\n",
    "\n",
    "Y = np.random.randint(-10, 10, (8, 8))\n",
    "print(Y)\n",
    "\n",
    "print(\"сумма, удовлетворяющая условию:\", np.sum(\n",
    "            np.where( \n",
    "                ((Y**2)-5 >20) | ((Y-1) <0), Y, 0  \n",
    "            )   \n",
    "        )\n",
    "    )"
   ]
  },
  {
   "cell_type": "code",
   "execution_count": null,
   "metadata": {},
   "outputs": [],
   "source": [
    "import numpy as np\n",
    "\n",
    "print(\"Задание 6\\n\")\n",
    "\n",
    "V = np.random.randint(-20, 20, 10)\n",
    "print(V)\n",
    "\n",
    "V_unique, V_coutns = np.unique(V, return_counts=True)\n",
    "print(V_unique)\n",
    "print(V_coutns)\n",
    "\n"
   ]
  },
  {
   "cell_type": "code",
   "execution_count": null,
   "metadata": {},
   "outputs": [],
   "source": []
  }
 ]
}