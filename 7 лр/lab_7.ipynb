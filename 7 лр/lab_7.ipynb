{
 "metadata": {
  "language_info": {
   "codemirror_mode": {
    "name": "ipython",
    "version": 3
   },
   "file_extension": ".py",
   "mimetype": "text/x-python",
   "name": "python",
   "nbconvert_exporter": "python",
   "pygments_lexer": "ipython3",
   "version": "3.9.1"
  },
  "orig_nbformat": 2,
  "kernelspec": {
   "name": "python3",
   "display_name": "Python 3.9.1 64-bit",
   "metadata": {
    "interpreter": {
     "hash": "f2aa1b94248c9eedf259d590174e0e738a18e957b20d884e38a5bf5a89c663fd"
    }
   }
  }
 },
 "nbformat": 4,
 "nbformat_minor": 2,
 "cells": [
  {
   "cell_type": "code",
   "execution_count": null,
   "metadata": {},
   "outputs": [],
   "source": [
    "import numpy as np\n",
    "import pandas as pd\n",
    "\n",
    "print(\"\\nЗадание 1\\n\")\n",
    "\n",
    "values = np.array([[np.nan, 2, np.nan],\n",
    "                    [np.nan, 3, 5], \n",
    "                    [1, 4, 6]])\n",
    "Dataframe = pd.DataFrame(values, columns = ['A', 'B', 'C'], \n",
    "                                    index = ['a', 'b', 'c'])\n",
    "print(Dataframe)\n",
    "\n",
    "print(Dataframe[Dataframe['C'].notnull()])\n",
    "\n",
    "print(Dataframe[Dataframe['A'].isnull()])"
   ]
  },
  {
   "cell_type": "code",
   "execution_count": null,
   "metadata": {},
   "outputs": [],
   "source": [
    "import numpy as np\n",
    "import pandas as pd\n",
    "\n",
    "print(\"\\nЗадание 2\\n\")\n",
    "\n",
    "values = np.array([[0.24, 58.64],\n",
    "                    [0.62, -243.02],\n",
    "                    [1.00, 1.00],\n",
    "                    [1.88, 1.03],\n",
    "                    [11.86, 0.41],\n",
    "                    [29.46, 0.43],\n",
    "                    [84.01, -0.72],\n",
    "                    [164.8, 0.67],\n",
    "                    [4.60, 0.38],\n",
    "                    [248.09, -6.39],\n",
    "                    [282.76, 0.16],\n",
    "                    [309.88, None],\n",
    "                    [558.0, 0.3]])\n",
    "index = [\n",
    "    ('Земная группа', 'Меркурий'), \n",
    "    ('Земная группа', 'Венера'), \n",
    "    ('Земная группа', 'Земля'),\n",
    "    ('Земная группа', 'Марс'), \n",
    "    ('Газовые гиганты', 'Юпитер'),\n",
    "    ('Газовые гиганты', 'Сатурн'),\n",
    "    ('Газовые гиганты', 'Уран'),\n",
    "    ('Газовые гиганты', 'Нептун'),\n",
    "    ('Карликовые планеты', 'Церера'),\n",
    "    ('Карликовые планеты', 'Плутон'),\n",
    "    ('Карликовые планеты', 'Хаумеа'),\n",
    "    ('Карликовые планеты', 'Макемаке'),\n",
    "    ('Карликовые планеты', 'Эрида')]\n",
    "columns = ['Период обращения (лет)','Период вращения (дней)']\n",
    "\n",
    "index = pd.MultiIndex.from_tuples(index)\n",
    "DataFrame = pd.DataFrame(values, index = index, columns = columns)\n",
    "print(DataFrame)\n"
   ]
  },
  {
   "cell_type": "code",
   "execution_count": null,
   "metadata": {},
   "outputs": [],
   "source": [
    "import numpy as np\n",
    "import pandas as pd\n",
    "\n",
    "print(\"\\nЗадание 3\\n\")\n",
    "\n",
    "def randint():\n",
    "    return np.random.randint(-10,11, (4,4))\n",
    "\n",
    "Data_1 = pd.DataFrame(randint(), \n",
    "                        columns=['A', 'B', 'C', 'D'])\n",
    "Data_2 = pd.DataFrame(randint(),\n",
    "                        columns=['AA', 'BB', 'CC', 'DD'])\n",
    "print(Data_1, \"\\n\", Data_2)\n",
    "\n",
    "data_axis_0 = pd.concat([Data_1, Data_2], axis=0)\n",
    "print(data_axis_0)\n",
    "data_axis_1 = pd.concat([Data_1, Data_2], axis=1)\n",
    "print(data_axis_1)"
   ]
  },
  {
   "cell_type": "code",
   "execution_count": null,
   "metadata": {},
   "outputs": [],
   "source": [
    "import numpy as np\n",
    "import pandas as pd\n",
    "\n",
    "print(\"\\nЗадание 4\\n\")\n",
    "\n",
    "def randint():\n",
    "    return np.random.randint(2,6)\n",
    "\n",
    "values_1 = np.array([['qwe', 'математика'],\n",
    "                    ['asd', 'русский'],\n",
    "                    ['zxc', 'физика'],\n",
    "                    ['Triglav', 'программирование'],\n",
    "                    ['YVV', 'Python']])\n",
    "\n",
    "values_2 = np.array([['qwe', randint()],\n",
    "                    ['Triglav', 5],\n",
    "                    ['YVV', 5],\n",
    "                    ['asd', randint()],\n",
    "                    ['zxc', randint()]])\n",
    "\n",
    "columns_1 = ['ФИО', 'название дисциплины']\n",
    "columns_2 = ['ФИО', 'оценка по дисциплине']\n",
    "\n",
    "data_1 = pd.DataFrame(values_1, columns = columns_1)\n",
    "data_2 = pd.DataFrame(values_2, columns = columns_2)\n",
    "print(data_1, \"\\n\\n\", data_2, \"\\n\")\n",
    "\n",
    "merge_data = pd.merge(data_1, data_2, on='ФИО')\n",
    "print(merge_data)\n"
   ]
  },
  {
   "cell_type": "code",
   "execution_count": null,
   "metadata": {},
   "outputs": [],
   "source": []
  }
 ]
}