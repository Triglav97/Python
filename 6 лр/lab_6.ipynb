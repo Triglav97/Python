{
 "metadata": {
  "language_info": {
   "codemirror_mode": {
    "name": "ipython",
    "version": 3
   },
   "file_extension": ".py",
   "mimetype": "text/x-python",
   "name": "python",
   "nbconvert_exporter": "python",
   "pygments_lexer": "ipython3",
   "version": "3.9.1-final"
  },
  "orig_nbformat": 2,
  "kernelspec": {
   "name": "python3",
   "display_name": "Python 3.9.1 64-bit",
   "metadata": {
    "interpreter": {
     "hash": "f2aa1b94248c9eedf259d590174e0e738a18e957b20d884e38a5bf5a89c663fd"
    }
   }
  }
 },
 "nbformat": 4,
 "nbformat_minor": 2,
 "cells": [
  {
   "cell_type": "code",
   "execution_count": null,
   "metadata": {},
   "outputs": [],
   "source": [
    "import numpy as np\n",
    "import pandas as pd\n",
    "\n",
    "print(\"\\nЗадание 2\\n\")\n",
    "\n",
    "def randint():\n",
    "    return np.random.randint(2,6, dtype = np.int16)\n",
    "\n",
    "def check_mark(firstname, lastname, course, DataFrame):\n",
    "    flag = False\n",
    "    for i in range( 0, len(list(DataFrame.First_Name)) ):\n",
    "        if (DataFrame.First_Name[i] == firstname) and (DataFrame.Last_Name[i] == lastname) and check_column(course, DataFrame):\n",
    "            print (DataFrame.First_Name[i], DataFrame.Last_Name[i], \"курс: \", course, \"оценка: \", DataFrame[course][i])\n",
    "            flag = True\n",
    "    if flag == False:\n",
    "        print(\"Неправильные данные\")\n",
    "\n",
    "def check_column(course, DataFrame):\n",
    "    for i in range (2, len(list(DataFrame.columns)) ):\n",
    "        if (course == DataFrame.columns[i]):\n",
    "            return True\n",
    "    return False\n",
    "\n",
    "DataFrame = pd.DataFrame([\n",
    "    {'First_Name': 'qwe', 'Last_Name': 'wer', 'Course_1': randint(), 'Course_2': randint(), 'Course_3': randint()},\n",
    "    {'First_Name': 'asd', 'Last_Name': 'sdf', 'Course_1': randint(), 'Course_2': randint(), 'Course_3': randint()},\n",
    "    {'First_Name': 'zxc', 'Last_Name': 'xcv', 'Course_1': randint(), 'Course_2': randint(), 'Course_3': randint()},\n",
    "    {'First_Name': 'rty', 'Last_Name': 'tyu', 'Course_1': randint(), 'Course_2': randint(), 'Course_3': randint()},\n",
    "    {'First_Name': 'dfg', 'Last_Name': 'fgh', 'Course_1': randint(), 'Course_2': randint(), 'Course_3': randint()}\n",
    "    ])\n",
    "\n",
    "print(DataFrame)\n",
    "i=0\n",
    "while (i<3):\n",
    "    print(\"Введите имя\")\n",
    "    firstname = input()\n",
    "    print(\"Введите фамилию\")\n",
    "    lastname = input()\n",
    "    print(\"Введите курс\")\n",
    "    course = input()\n",
    "\n",
    "    key = check_mark(firstname, lastname, course, DataFrame)\n",
    "\n",
    "    i=i+1 #для 3 проверок за раз для 1 таблицы, надеюсь не критично, я 'ручками' проводил поиск, тестил, решил оставить, дальше пользовался функционалом pandas "
   ]
  },
  {
   "cell_type": "code",
   "execution_count": null,
   "metadata": {},
   "outputs": [],
   "source": [
    "import numpy as np\n",
    "import pandas as pd\n",
    "\n",
    "print(\"\\nЗадание 2\\n\")\n",
    "\n",
    "DataFrame = pd.read_csv(\"text.csv\", sep=',', encoding='cp1251')\n",
    "\n",
    "print(DataFrame.loc[\n",
    "    (DataFrame['длина чашелистика'] >= 5) & (DataFrame['ширина чашелистика'] <= 3)\n",
    "    ])\n",
    "print(\"----------------------------------\\n\")\n",
    "print(DataFrame.loc[\n",
    "    (DataFrame['длина лепестка'] <= 2) & (DataFrame['ширина лепестка'] <= 2)\n",
    "    ])\n",
    "print(\"----------------------------------\\n\")\n",
    "print(DataFrame.loc[\n",
    "    (DataFrame['вид ириса'] == 'Iris-versicolor')\n",
    "    ])"
   ]
  },
  {
   "cell_type": "code",
   "execution_count": null,
   "metadata": {},
   "outputs": [],
   "source": [
    "import numpy as np\n",
    "import pandas as pd\n",
    "\n",
    "print(\"\\nЗадание 3\\n\")\n",
    "\n",
    "NumPy = np.random.randint(-10,10,(5,5))\n",
    "\n",
    "DataFrame = pd.DataFrame(NumPy, \n",
    "        columns = ['A','B','C','D','E'], \n",
    "        index = ['a','b','c','d','e'])\n",
    "print(DataFrame)\n",
    "\n",
    "DataFrame.loc[DataFrame['A'] < 0,['A']] = np.exp(1)\n",
    "DataFrame.loc[DataFrame['B'] < 0,['B']] = np.exp(1)\n",
    "DataFrame.loc[DataFrame['C'] < 0,['C']] = np.exp(1)\n",
    "print(DataFrame)\n",
    "\n",
    "DataFrame[DataFrame.iloc[:2] > 1] = np.pi\n",
    "print(DataFrame)\n",
    "\n",
    "DataFrame['DE'] = DataFrame['D']/DataFrame['E']\n",
    "print(DataFrame)\n",
    "\n",
    "DataFrame.to_csv('new_csv.csv', sep=',', index = False)"
   ]
  },
  {
   "cell_type": "code",
   "execution_count": 106,
   "metadata": {},
   "outputs": [
    {
     "output_type": "stream",
     "name": "stdout",
     "text": [
      "     0    1\n0  0.0  0.0\n1  0.0  0.0\n     0    1\n0  1.0  1.0\n1  1.0  1.0\n          0         1\n0  2.141593  2.141593\n1  2.141593  2.141593\n          0         1\n0  2.141593  1.141593\n1  2.141593  1.141593\n"
     ]
    }
   ],
   "source": [
    "import numpy as np\n",
    "import pandas as pd\n",
    "\n",
    "NumPy = np.zeros((2,2))\n",
    "A = pd.DataFrame(NumPy)\n",
    "print(A)\n",
    "\n",
    "NumPy = np.ones((2,2))\n",
    "B = pd.DataFrame(NumPy)\n",
    "print(B)\n",
    "\n",
    "C = A - B + np.pi\n",
    "print(C)\n",
    "\n",
    "C[1]=C.iloc[:,1:]-1\n",
    "print(C)"
   ]
  },
  {
   "cell_type": "code",
   "execution_count": null,
   "metadata": {},
   "outputs": [],
   "source": []
  }
 ]
}