{
 "metadata": {
  "language_info": {
   "codemirror_mode": {
    "name": "ipython",
    "version": 3
   },
   "file_extension": ".py",
   "mimetype": "text/x-python",
   "name": "python",
   "nbconvert_exporter": "python",
   "pygments_lexer": "ipython3",
   "version": "3.9.1-final"
  },
  "orig_nbformat": 2,
  "kernelspec": {
   "name": "python3",
   "display_name": "Python 3.9.1 64-bit",
   "metadata": {
    "interpreter": {
     "hash": "f2aa1b94248c9eedf259d590174e0e738a18e957b20d884e38a5bf5a89c663fd"
    }
   }
  }
 },
 "nbformat": 4,
 "nbformat_minor": 2,
 "cells": [
  {
   "cell_type": "code",
   "execution_count": 52,
   "metadata": {},
   "outputs": [
    {
     "output_type": "stream",
     "name": "stdout",
     "text": [
      "\nЗадание 5\n\nx =  0.3590831031615691\n"
     ]
    }
   ],
   "source": [
    "import numpy as np\n",
    "\n",
    "print(\"\\nЗадание 5\\n\")\n",
    "\n",
    "def NeuralNetwork(X, W, U):\n",
    "    h = np.dot(X.T, W)\n",
    "    h = F_activity(h)\n",
    "    y = np.dot(h, U)\n",
    "    y = F_activity(y)\n",
    "    return np.float64(y)\n",
    "def F_activity(S):\n",
    "    return 1/(1 + np.exp(-S))\n",
    "\n",
    "W = np.random.uniform(-1,1, (2,2))\n",
    "U = np.random.uniform(-1,1, (2,1))\n",
    "\n",
    "X = np.array([[1], [0]])\n",
    "\n",
    "print(f\"x = \", NeuralNetwork(X, W, U))"
   ]
  },
  {
   "cell_type": "code",
   "execution_count": null,
   "metadata": {},
   "outputs": [],
   "source": []
  }
 ]
}